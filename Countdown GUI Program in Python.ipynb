{
 "cells": [
  {
   "cell_type": "code",
   "execution_count": 114,
   "metadata": {},
   "outputs": [],
   "source": [
    "from tkinter import *"
   ]
  },
  {
   "cell_type": "code",
   "execution_count": 115,
   "metadata": {},
   "outputs": [],
   "source": [
    "t = 0\n",
    "\n",
    "def set_timer():\n",
    "    global t \n",
    "    t = t+int(e1.get())\n",
    "    return t"
   ]
  },
  {
   "cell_type": "code",
   "execution_count": 116,
   "metadata": {},
   "outputs": [],
   "source": [
    "def countdown():\n",
    "    global t \n",
    "    if t>0:\n",
    "        l1.config(text=t)\n",
    "        t=t-1\n",
    "        l1.after(1000,countdown)\n",
    "    elif t == 0:\n",
    "            print(\"End!\")\n",
    "            l1.config(text=\"Go\")"
   ]
  },
  {
   "cell_type": "code",
   "execution_count": 117,
   "metadata": {},
   "outputs": [],
   "source": [
    "root = Tk()"
   ]
  },
  {
   "cell_type": "code",
   "execution_count": 118,
   "metadata": {},
   "outputs": [],
   "source": [
    "root.geometry()\n",
    "\n",
    "l1=Label(root,font=\"times 20\")\n",
    "l1.grid(row=1,column=2)"
   ]
  },
  {
   "cell_type": "code",
   "execution_count": 119,
   "metadata": {},
   "outputs": [],
   "source": [
    "times = StringVar()\n",
    "\n",
    "e1=Entry(root, textvariable=times)\n",
    "e1.grid(row=2,column=2)\n",
    "\n",
    "b1=Button(root, text=\"SET\",width=15,command=set_timer)\n",
    "b1.grid(row=2,column=3,padx=20)\n",
    "\n",
    "b2=Button(root, text=\"START\",width=15,command=countdown)\n",
    "b2.grid(row=2,column=4,padx=20)"
   ]
  },
  {
   "cell_type": "code",
   "execution_count": 120,
   "metadata": {},
   "outputs": [
    {
     "name": "stdout",
     "output_type": "stream",
     "text": [
      "End!\n"
     ]
    }
   ],
   "source": [
    "root.mainloop()"
   ]
  },
  {
   "cell_type": "code",
   "execution_count": null,
   "metadata": {},
   "outputs": [],
   "source": []
  }
 ],
 "metadata": {
  "kernelspec": {
   "display_name": "Python 3",
   "language": "python",
   "name": "python3"
  },
  "language_info": {
   "codemirror_mode": {
    "name": "ipython",
    "version": 3
   },
   "file_extension": ".py",
   "mimetype": "text/x-python",
   "name": "python",
   "nbconvert_exporter": "python",
   "pygments_lexer": "ipython3",
   "version": "3.7.7"
  }
 },
 "nbformat": 4,
 "nbformat_minor": 4
}
